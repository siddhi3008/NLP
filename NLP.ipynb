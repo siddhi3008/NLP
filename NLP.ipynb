{
  "nbformat": 4,
  "nbformat_minor": 0,
  "metadata": {
    "colab": {
      "provenance": []
    },
    "kernelspec": {
      "name": "python3",
      "display_name": "Python 3"
    },
    "language_info": {
      "name": "python"
    }
  },
  "cells": [
    {
      "cell_type": "code",
      "metadata": {
        "id": "L8t4Ti2jbaBe"
      },
      "source": [
        "import os\n",
        "import nltk\n",
        "import nltk.corpus"
      ],
      "execution_count": 1,
      "outputs": []
    },
    {
      "cell_type": "code",
      "metadata": {
        "colab": {
          "base_uri": "https://localhost:8080/"
        },
        "id": "HOWGW5bDdu9u",
        "outputId": "c4573da5-05bf-461e-f215-9d61fbebd411"
      },
      "source": [
        "nltk.download('all')"
      ],
      "execution_count": 2,
      "outputs": [
        {
          "output_type": "stream",
          "name": "stderr",
          "text": [
            "[nltk_data] Downloading collection 'all'\n",
            "[nltk_data]    | \n",
            "[nltk_data]    | Downloading package abc to /root/nltk_data...\n",
            "[nltk_data]    |   Unzipping corpora/abc.zip.\n",
            "[nltk_data]    | Downloading package alpino to /root/nltk_data...\n",
            "[nltk_data]    |   Unzipping corpora/alpino.zip.\n",
            "[nltk_data]    | Downloading package averaged_perceptron_tagger to\n",
            "[nltk_data]    |     /root/nltk_data...\n",
            "[nltk_data]    |   Unzipping taggers/averaged_perceptron_tagger.zip.\n",
            "[nltk_data]    | Downloading package averaged_perceptron_tagger_ru to\n",
            "[nltk_data]    |     /root/nltk_data...\n",
            "[nltk_data]    |   Unzipping\n",
            "[nltk_data]    |       taggers/averaged_perceptron_tagger_ru.zip.\n",
            "[nltk_data]    | Downloading package basque_grammars to\n",
            "[nltk_data]    |     /root/nltk_data...\n",
            "[nltk_data]    |   Unzipping grammars/basque_grammars.zip.\n",
            "[nltk_data]    | Downloading package bcp47 to /root/nltk_data...\n",
            "[nltk_data]    | Downloading package biocreative_ppi to\n",
            "[nltk_data]    |     /root/nltk_data...\n",
            "[nltk_data]    |   Unzipping corpora/biocreative_ppi.zip.\n",
            "[nltk_data]    | Downloading package bllip_wsj_no_aux to\n",
            "[nltk_data]    |     /root/nltk_data...\n",
            "[nltk_data]    |   Unzipping models/bllip_wsj_no_aux.zip.\n",
            "[nltk_data]    | Downloading package book_grammars to\n",
            "[nltk_data]    |     /root/nltk_data...\n",
            "[nltk_data]    |   Unzipping grammars/book_grammars.zip.\n",
            "[nltk_data]    | Downloading package brown to /root/nltk_data...\n",
            "[nltk_data]    |   Unzipping corpora/brown.zip.\n",
            "[nltk_data]    | Downloading package brown_tei to /root/nltk_data...\n",
            "[nltk_data]    |   Unzipping corpora/brown_tei.zip.\n",
            "[nltk_data]    | Downloading package cess_cat to /root/nltk_data...\n",
            "[nltk_data]    |   Unzipping corpora/cess_cat.zip.\n",
            "[nltk_data]    | Downloading package cess_esp to /root/nltk_data...\n",
            "[nltk_data]    |   Unzipping corpora/cess_esp.zip.\n",
            "[nltk_data]    | Downloading package chat80 to /root/nltk_data...\n",
            "[nltk_data]    |   Unzipping corpora/chat80.zip.\n",
            "[nltk_data]    | Downloading package city_database to\n",
            "[nltk_data]    |     /root/nltk_data...\n",
            "[nltk_data]    |   Unzipping corpora/city_database.zip.\n",
            "[nltk_data]    | Downloading package cmudict to /root/nltk_data...\n",
            "[nltk_data]    |   Unzipping corpora/cmudict.zip.\n",
            "[nltk_data]    | Downloading package comparative_sentences to\n",
            "[nltk_data]    |     /root/nltk_data...\n",
            "[nltk_data]    |   Unzipping corpora/comparative_sentences.zip.\n",
            "[nltk_data]    | Downloading package comtrans to /root/nltk_data...\n",
            "[nltk_data]    | Downloading package conll2000 to /root/nltk_data...\n",
            "[nltk_data]    |   Unzipping corpora/conll2000.zip.\n",
            "[nltk_data]    | Downloading package conll2002 to /root/nltk_data...\n",
            "[nltk_data]    |   Unzipping corpora/conll2002.zip.\n",
            "[nltk_data]    | Downloading package conll2007 to /root/nltk_data...\n",
            "[nltk_data]    | Downloading package crubadan to /root/nltk_data...\n",
            "[nltk_data]    |   Unzipping corpora/crubadan.zip.\n",
            "[nltk_data]    | Downloading package dependency_treebank to\n",
            "[nltk_data]    |     /root/nltk_data...\n",
            "[nltk_data]    |   Unzipping corpora/dependency_treebank.zip.\n",
            "[nltk_data]    | Downloading package dolch to /root/nltk_data...\n",
            "[nltk_data]    |   Unzipping corpora/dolch.zip.\n",
            "[nltk_data]    | Downloading package europarl_raw to\n",
            "[nltk_data]    |     /root/nltk_data...\n",
            "[nltk_data]    |   Unzipping corpora/europarl_raw.zip.\n",
            "[nltk_data]    | Downloading package extended_omw to\n",
            "[nltk_data]    |     /root/nltk_data...\n",
            "[nltk_data]    | Downloading package floresta to /root/nltk_data...\n",
            "[nltk_data]    |   Unzipping corpora/floresta.zip.\n",
            "[nltk_data]    | Downloading package framenet_v15 to\n",
            "[nltk_data]    |     /root/nltk_data...\n",
            "[nltk_data]    |   Unzipping corpora/framenet_v15.zip.\n",
            "[nltk_data]    | Downloading package framenet_v17 to\n",
            "[nltk_data]    |     /root/nltk_data...\n",
            "[nltk_data]    |   Unzipping corpora/framenet_v17.zip.\n",
            "[nltk_data]    | Downloading package gazetteers to /root/nltk_data...\n",
            "[nltk_data]    |   Unzipping corpora/gazetteers.zip.\n",
            "[nltk_data]    | Downloading package genesis to /root/nltk_data...\n",
            "[nltk_data]    |   Unzipping corpora/genesis.zip.\n",
            "[nltk_data]    | Downloading package gutenberg to /root/nltk_data...\n",
            "[nltk_data]    |   Unzipping corpora/gutenberg.zip.\n",
            "[nltk_data]    | Downloading package ieer to /root/nltk_data...\n",
            "[nltk_data]    |   Unzipping corpora/ieer.zip.\n",
            "[nltk_data]    | Downloading package inaugural to /root/nltk_data...\n",
            "[nltk_data]    |   Unzipping corpora/inaugural.zip.\n",
            "[nltk_data]    | Downloading package indian to /root/nltk_data...\n",
            "[nltk_data]    |   Unzipping corpora/indian.zip.\n",
            "[nltk_data]    | Downloading package jeita to /root/nltk_data...\n",
            "[nltk_data]    | Downloading package kimmo to /root/nltk_data...\n",
            "[nltk_data]    |   Unzipping corpora/kimmo.zip.\n",
            "[nltk_data]    | Downloading package knbc to /root/nltk_data...\n",
            "[nltk_data]    | Downloading package large_grammars to\n",
            "[nltk_data]    |     /root/nltk_data...\n",
            "[nltk_data]    |   Unzipping grammars/large_grammars.zip.\n",
            "[nltk_data]    | Downloading package lin_thesaurus to\n",
            "[nltk_data]    |     /root/nltk_data...\n",
            "[nltk_data]    |   Unzipping corpora/lin_thesaurus.zip.\n",
            "[nltk_data]    | Downloading package mac_morpho to /root/nltk_data...\n",
            "[nltk_data]    |   Unzipping corpora/mac_morpho.zip.\n",
            "[nltk_data]    | Downloading package machado to /root/nltk_data...\n",
            "[nltk_data]    | Downloading package masc_tagged to /root/nltk_data...\n",
            "[nltk_data]    | Downloading package maxent_ne_chunker to\n",
            "[nltk_data]    |     /root/nltk_data...\n",
            "[nltk_data]    |   Unzipping chunkers/maxent_ne_chunker.zip.\n",
            "[nltk_data]    | Downloading package maxent_treebank_pos_tagger to\n",
            "[nltk_data]    |     /root/nltk_data...\n",
            "[nltk_data]    |   Unzipping taggers/maxent_treebank_pos_tagger.zip.\n",
            "[nltk_data]    | Downloading package moses_sample to\n",
            "[nltk_data]    |     /root/nltk_data...\n",
            "[nltk_data]    |   Unzipping models/moses_sample.zip.\n",
            "[nltk_data]    | Downloading package movie_reviews to\n",
            "[nltk_data]    |     /root/nltk_data...\n",
            "[nltk_data]    |   Unzipping corpora/movie_reviews.zip.\n",
            "[nltk_data]    | Downloading package mte_teip5 to /root/nltk_data...\n",
            "[nltk_data]    |   Unzipping corpora/mte_teip5.zip.\n",
            "[nltk_data]    | Downloading package mwa_ppdb to /root/nltk_data...\n",
            "[nltk_data]    |   Unzipping misc/mwa_ppdb.zip.\n",
            "[nltk_data]    | Downloading package names to /root/nltk_data...\n",
            "[nltk_data]    |   Unzipping corpora/names.zip.\n",
            "[nltk_data]    | Downloading package nombank.1.0 to /root/nltk_data...\n",
            "[nltk_data]    | Downloading package nonbreaking_prefixes to\n",
            "[nltk_data]    |     /root/nltk_data...\n",
            "[nltk_data]    |   Unzipping corpora/nonbreaking_prefixes.zip.\n",
            "[nltk_data]    | Downloading package nps_chat to /root/nltk_data...\n",
            "[nltk_data]    |   Unzipping corpora/nps_chat.zip.\n",
            "[nltk_data]    | Downloading package omw to /root/nltk_data...\n",
            "[nltk_data]    | Downloading package omw-1.4 to /root/nltk_data...\n",
            "[nltk_data]    | Downloading package opinion_lexicon to\n",
            "[nltk_data]    |     /root/nltk_data...\n",
            "[nltk_data]    |   Unzipping corpora/opinion_lexicon.zip.\n",
            "[nltk_data]    | Downloading package panlex_swadesh to\n",
            "[nltk_data]    |     /root/nltk_data...\n",
            "[nltk_data]    | Downloading package paradigms to /root/nltk_data...\n",
            "[nltk_data]    |   Unzipping corpora/paradigms.zip.\n",
            "[nltk_data]    | Downloading package pe08 to /root/nltk_data...\n",
            "[nltk_data]    |   Unzipping corpora/pe08.zip.\n",
            "[nltk_data]    | Downloading package perluniprops to\n",
            "[nltk_data]    |     /root/nltk_data...\n",
            "[nltk_data]    |   Unzipping misc/perluniprops.zip.\n",
            "[nltk_data]    | Downloading package pil to /root/nltk_data...\n",
            "[nltk_data]    |   Unzipping corpora/pil.zip.\n",
            "[nltk_data]    | Downloading package pl196x to /root/nltk_data...\n",
            "[nltk_data]    |   Unzipping corpora/pl196x.zip.\n",
            "[nltk_data]    | Downloading package porter_test to /root/nltk_data...\n",
            "[nltk_data]    |   Unzipping stemmers/porter_test.zip.\n",
            "[nltk_data]    | Downloading package ppattach to /root/nltk_data...\n",
            "[nltk_data]    |   Unzipping corpora/ppattach.zip.\n",
            "[nltk_data]    | Downloading package problem_reports to\n",
            "[nltk_data]    |     /root/nltk_data...\n",
            "[nltk_data]    |   Unzipping corpora/problem_reports.zip.\n",
            "[nltk_data]    | Downloading package product_reviews_1 to\n",
            "[nltk_data]    |     /root/nltk_data...\n",
            "[nltk_data]    |   Unzipping corpora/product_reviews_1.zip.\n",
            "[nltk_data]    | Downloading package product_reviews_2 to\n",
            "[nltk_data]    |     /root/nltk_data...\n",
            "[nltk_data]    |   Unzipping corpora/product_reviews_2.zip.\n",
            "[nltk_data]    | Downloading package propbank to /root/nltk_data...\n",
            "[nltk_data]    | Downloading package pros_cons to /root/nltk_data...\n",
            "[nltk_data]    |   Unzipping corpora/pros_cons.zip.\n",
            "[nltk_data]    | Downloading package ptb to /root/nltk_data...\n",
            "[nltk_data]    |   Unzipping corpora/ptb.zip.\n",
            "[nltk_data]    | Downloading package punkt to /root/nltk_data...\n",
            "[nltk_data]    |   Unzipping tokenizers/punkt.zip.\n",
            "[nltk_data]    | Downloading package qc to /root/nltk_data...\n",
            "[nltk_data]    |   Unzipping corpora/qc.zip.\n",
            "[nltk_data]    | Downloading package reuters to /root/nltk_data...\n",
            "[nltk_data]    | Downloading package rslp to /root/nltk_data...\n",
            "[nltk_data]    |   Unzipping stemmers/rslp.zip.\n",
            "[nltk_data]    | Downloading package rte to /root/nltk_data...\n",
            "[nltk_data]    |   Unzipping corpora/rte.zip.\n",
            "[nltk_data]    | Downloading package sample_grammars to\n",
            "[nltk_data]    |     /root/nltk_data...\n",
            "[nltk_data]    |   Unzipping grammars/sample_grammars.zip.\n",
            "[nltk_data]    | Downloading package semcor to /root/nltk_data...\n",
            "[nltk_data]    | Downloading package senseval to /root/nltk_data...\n",
            "[nltk_data]    |   Unzipping corpora/senseval.zip.\n",
            "[nltk_data]    | Downloading package sentence_polarity to\n",
            "[nltk_data]    |     /root/nltk_data...\n",
            "[nltk_data]    |   Unzipping corpora/sentence_polarity.zip.\n",
            "[nltk_data]    | Downloading package sentiwordnet to\n",
            "[nltk_data]    |     /root/nltk_data...\n",
            "[nltk_data]    |   Unzipping corpora/sentiwordnet.zip.\n",
            "[nltk_data]    | Downloading package shakespeare to /root/nltk_data...\n",
            "[nltk_data]    |   Unzipping corpora/shakespeare.zip.\n",
            "[nltk_data]    | Downloading package sinica_treebank to\n",
            "[nltk_data]    |     /root/nltk_data...\n",
            "[nltk_data]    |   Unzipping corpora/sinica_treebank.zip.\n",
            "[nltk_data]    | Downloading package smultron to /root/nltk_data...\n",
            "[nltk_data]    |   Unzipping corpora/smultron.zip.\n",
            "[nltk_data]    | Downloading package snowball_data to\n",
            "[nltk_data]    |     /root/nltk_data...\n",
            "[nltk_data]    | Downloading package spanish_grammars to\n",
            "[nltk_data]    |     /root/nltk_data...\n",
            "[nltk_data]    |   Unzipping grammars/spanish_grammars.zip.\n",
            "[nltk_data]    | Downloading package state_union to /root/nltk_data...\n",
            "[nltk_data]    |   Unzipping corpora/state_union.zip.\n",
            "[nltk_data]    | Downloading package stopwords to /root/nltk_data...\n",
            "[nltk_data]    |   Unzipping corpora/stopwords.zip.\n",
            "[nltk_data]    | Downloading package subjectivity to\n",
            "[nltk_data]    |     /root/nltk_data...\n",
            "[nltk_data]    |   Unzipping corpora/subjectivity.zip.\n",
            "[nltk_data]    | Downloading package swadesh to /root/nltk_data...\n",
            "[nltk_data]    |   Unzipping corpora/swadesh.zip.\n",
            "[nltk_data]    | Downloading package switchboard to /root/nltk_data...\n",
            "[nltk_data]    |   Unzipping corpora/switchboard.zip.\n",
            "[nltk_data]    | Downloading package tagsets to /root/nltk_data...\n",
            "[nltk_data]    |   Unzipping help/tagsets.zip.\n",
            "[nltk_data]    | Downloading package timit to /root/nltk_data...\n",
            "[nltk_data]    |   Unzipping corpora/timit.zip.\n",
            "[nltk_data]    | Downloading package toolbox to /root/nltk_data...\n",
            "[nltk_data]    |   Unzipping corpora/toolbox.zip.\n",
            "[nltk_data]    | Downloading package treebank to /root/nltk_data...\n",
            "[nltk_data]    |   Unzipping corpora/treebank.zip.\n",
            "[nltk_data]    | Downloading package twitter_samples to\n",
            "[nltk_data]    |     /root/nltk_data...\n",
            "[nltk_data]    |   Unzipping corpora/twitter_samples.zip.\n",
            "[nltk_data]    | Downloading package udhr to /root/nltk_data...\n",
            "[nltk_data]    |   Unzipping corpora/udhr.zip.\n",
            "[nltk_data]    | Downloading package udhr2 to /root/nltk_data...\n",
            "[nltk_data]    |   Unzipping corpora/udhr2.zip.\n",
            "[nltk_data]    | Downloading package unicode_samples to\n",
            "[nltk_data]    |     /root/nltk_data...\n",
            "[nltk_data]    |   Unzipping corpora/unicode_samples.zip.\n",
            "[nltk_data]    | Downloading package universal_tagset to\n",
            "[nltk_data]    |     /root/nltk_data...\n",
            "[nltk_data]    |   Unzipping taggers/universal_tagset.zip.\n",
            "[nltk_data]    | Downloading package universal_treebanks_v20 to\n",
            "[nltk_data]    |     /root/nltk_data...\n",
            "[nltk_data]    | Downloading package vader_lexicon to\n",
            "[nltk_data]    |     /root/nltk_data...\n",
            "[nltk_data]    | Downloading package verbnet to /root/nltk_data...\n",
            "[nltk_data]    |   Unzipping corpora/verbnet.zip.\n",
            "[nltk_data]    | Downloading package verbnet3 to /root/nltk_data...\n",
            "[nltk_data]    |   Unzipping corpora/verbnet3.zip.\n",
            "[nltk_data]    | Downloading package webtext to /root/nltk_data...\n",
            "[nltk_data]    |   Unzipping corpora/webtext.zip.\n",
            "[nltk_data]    | Downloading package wmt15_eval to /root/nltk_data...\n",
            "[nltk_data]    |   Unzipping models/wmt15_eval.zip.\n",
            "[nltk_data]    | Downloading package word2vec_sample to\n",
            "[nltk_data]    |     /root/nltk_data...\n",
            "[nltk_data]    |   Unzipping models/word2vec_sample.zip.\n",
            "[nltk_data]    | Downloading package wordnet to /root/nltk_data...\n",
            "[nltk_data]    | Downloading package wordnet2021 to /root/nltk_data...\n",
            "[nltk_data]    | Downloading package wordnet2022 to /root/nltk_data...\n",
            "[nltk_data]    |   Unzipping corpora/wordnet2022.zip.\n",
            "[nltk_data]    | Downloading package wordnet31 to /root/nltk_data...\n",
            "[nltk_data]    | Downloading package wordnet_ic to /root/nltk_data...\n",
            "[nltk_data]    |   Unzipping corpora/wordnet_ic.zip.\n",
            "[nltk_data]    | Downloading package words to /root/nltk_data...\n",
            "[nltk_data]    |   Unzipping corpora/words.zip.\n",
            "[nltk_data]    | Downloading package ycoe to /root/nltk_data...\n",
            "[nltk_data]    |   Unzipping corpora/ycoe.zip.\n",
            "[nltk_data]    | \n",
            "[nltk_data]  Done downloading collection all\n"
          ]
        },
        {
          "output_type": "execute_result",
          "data": {
            "text/plain": [
              "True"
            ]
          },
          "metadata": {},
          "execution_count": 2
        }
      ]
    },
    {
      "cell_type": "code",
      "metadata": {
        "colab": {
          "base_uri": "https://localhost:8080/"
        },
        "id": "EvNTSaIneCXb",
        "outputId": "9bd643a3-4396-488d-af26-a45b8987ebb7"
      },
      "source": [
        "print(os.listdir(nltk.data.find(\"corpora\")))"
      ],
      "execution_count": 3,
      "outputs": [
        {
          "output_type": "stream",
          "name": "stdout",
          "text": [
            "['reuters.zip', 'brown.zip', 'product_reviews_2', 'inaugural.zip', 'shakespeare.zip', 'gazetteers.zip', 'nps_chat', 'nonbreaking_prefixes.zip', 'masc_tagged.zip', 'pl196x.zip', 'cess_esp.zip', 'ycoe', 'cess_cat.zip', 'comparative_sentences.zip', 'opinion_lexicon', 'wordnet2022.zip', 'switchboard.zip', 'lin_thesaurus.zip', 'city_database.zip', 'dolch.zip', 'comparative_sentences', 'biocreative_ppi.zip', 'problem_reports', 'smultron', 'extended_omw.zip', 'inaugural', 'state_union', 'gutenberg', 'brown_tei.zip', 'names.zip', 'dependency_treebank.zip', 'ycoe.zip', 'ieer.zip', 'treebank', 'pros_cons', 'indian.zip', 'omw.zip', 'pil', 'pe08.zip', 'machado.zip', 'verbnet3', 'brown_tei', 'verbnet3.zip', 'mte_teip5.zip', 'sentiwordnet', 'timit.zip', 'wordnet.zip', 'abc.zip', 'conll2007.zip', 'product_reviews_1', 'chat80', 'framenet_v15.zip', 'product_reviews_2.zip', 'nps_chat.zip', 'pros_cons.zip', 'sinica_treebank', 'unicode_samples.zip', 'cess_cat', 'stopwords', 'udhr', 'propbank.zip', 'wordnet_ic.zip', 'swadesh', 'conll2002.zip', 'chat80.zip', 'floresta.zip', 'indian', 'brown', 'senseval', 'conll2000.zip', 'cmudict.zip', 'comtrans.zip', 'panlex_swadesh.zip', 'names', 'opinion_lexicon.zip', 'pe08', 'unicode_samples', 'dolch', 'verbnet', 'twitter_samples', 'conll2002', 'words', 'rte', 'alpino.zip', 'ptb', 'framenet_v15', 'crubadan', 'crubadan.zip', 'nonbreaking_prefixes', 'wordnet_ic', 'webtext.zip', 'conll2000', 'europarl_raw.zip', 'pil.zip', 'qc.zip', 'wordnet2021.zip', 'paradigms.zip', 'words.zip', 'ieer', 'verbnet.zip', 'framenet_v17', 'gazetteers', 'nombank.1.0.zip', 'cmudict', 'semcor.zip', 'rte.zip', 'wordnet2022', 'omw-1.4.zip', 'subjectivity', 'ppattach', 'webtext', 'udhr.zip', 'floresta', 'kimmo', 'genesis.zip', 'swadesh.zip', 'gutenberg.zip', 'movie_reviews', 'pl196x', 'treebank.zip', 'toolbox', 'shakespeare', 'twitter_samples.zip', 'lin_thesaurus', 'bcp47.zip', 'senseval.zip', 'problem_reports.zip', 'europarl_raw', 'stopwords.zip', 'city_database', 'sinica_treebank.zip', 'wordnet31.zip', 'mte_teip5', 'paradigms', 'timit', 'product_reviews_1.zip', 'knbc.zip', 'jeita.zip', 'mac_morpho', 'toolbox.zip', 'ppattach.zip', 'ptb.zip', 'udhr2', 'qc', 'framenet_v17.zip', 'udhr2.zip', 'sentence_polarity.zip', 'dependency_treebank', 'sentence_polarity', 'smultron.zip', 'genesis', 'sentiwordnet.zip', 'biocreative_ppi', 'subjectivity.zip', 'mac_morpho.zip', 'state_union.zip', 'cess_esp', 'abc', 'universal_treebanks_v20.zip', 'movie_reviews.zip', 'alpino', 'kimmo.zip', 'switchboard']\n"
          ]
        }
      ]
    },
    {
      "cell_type": "code",
      "metadata": {
        "colab": {
          "base_uri": "https://localhost:8080/"
        },
        "id": "_98uhPdreVoa",
        "outputId": "955914ea-c0e0-4402-cc4b-a89c96aac792"
      },
      "source": [
        "from nltk.corpus import brown\n",
        "brown.words()"
      ],
      "execution_count": 4,
      "outputs": [
        {
          "output_type": "execute_result",
          "data": {
            "text/plain": [
              "['The', 'Fulton', 'County', 'Grand', 'Jury', 'said', ...]"
            ]
          },
          "metadata": {},
          "execution_count": 4
        }
      ]
    },
    {
      "cell_type": "code",
      "metadata": {
        "colab": {
          "base_uri": "https://localhost:8080/"
        },
        "id": "mtOLbF4Uy9Y6",
        "outputId": "d4739666-5e61-4079-bc79-dfa8c35f3252"
      },
      "source": [
        "nltk.download('gutenberg')"
      ],
      "execution_count": 5,
      "outputs": [
        {
          "output_type": "stream",
          "name": "stderr",
          "text": [
            "[nltk_data] Downloading package gutenberg to /root/nltk_data...\n",
            "[nltk_data]   Package gutenberg is already up-to-date!\n"
          ]
        },
        {
          "output_type": "execute_result",
          "data": {
            "text/plain": [
              "True"
            ]
          },
          "metadata": {},
          "execution_count": 5
        }
      ]
    },
    {
      "cell_type": "code",
      "metadata": {
        "colab": {
          "base_uri": "https://localhost:8080/"
        },
        "id": "7X5A26MyfBvC",
        "outputId": "fd4c3d97-f066-4a25-b0bb-68fecde6bf3a"
      },
      "source": [
        "nltk.corpus.gutenberg.fileids()"
      ],
      "execution_count": 6,
      "outputs": [
        {
          "output_type": "execute_result",
          "data": {
            "text/plain": [
              "['austen-emma.txt',\n",
              " 'austen-persuasion.txt',\n",
              " 'austen-sense.txt',\n",
              " 'bible-kjv.txt',\n",
              " 'blake-poems.txt',\n",
              " 'bryant-stories.txt',\n",
              " 'burgess-busterbrown.txt',\n",
              " 'carroll-alice.txt',\n",
              " 'chesterton-ball.txt',\n",
              " 'chesterton-brown.txt',\n",
              " 'chesterton-thursday.txt',\n",
              " 'edgeworth-parents.txt',\n",
              " 'melville-moby_dick.txt',\n",
              " 'milton-paradise.txt',\n",
              " 'shakespeare-caesar.txt',\n",
              " 'shakespeare-hamlet.txt',\n",
              " 'shakespeare-macbeth.txt',\n",
              " 'whitman-leaves.txt']"
            ]
          },
          "metadata": {},
          "execution_count": 6
        }
      ]
    },
    {
      "cell_type": "code",
      "metadata": {
        "colab": {
          "base_uri": "https://localhost:8080/"
        },
        "id": "kLKOY3VdfYQv",
        "outputId": "ed8fd794-b942-48db-dc2f-8edcbfc67ad7"
      },
      "source": [
        "hamlet=nltk.corpus.gutenberg.words('shakespeare-hamlet.txt')\n",
        "hamlet"
      ],
      "execution_count": 7,
      "outputs": [
        {
          "output_type": "execute_result",
          "data": {
            "text/plain": [
              "['[', 'The', 'Tragedie', 'of', 'Hamlet', 'by', ...]"
            ]
          },
          "metadata": {},
          "execution_count": 7
        }
      ]
    },
    {
      "cell_type": "code",
      "metadata": {
        "colab": {
          "base_uri": "https://localhost:8080/"
        },
        "id": "107dQ9uWgEEa",
        "outputId": "38cccaa4-fd65-41f9-eeee-55272237cf62"
      },
      "source": [
        "for word in hamlet[:500]:\n",
        "  print(word, sep=' ', end=' ')"
      ],
      "execution_count": 8,
      "outputs": [
        {
          "output_type": "stream",
          "name": "stdout",
          "text": [
            "[ The Tragedie of Hamlet by William Shakespeare 1599 ] Actus Primus . Scoena Prima . Enter Barnardo and Francisco two Centinels . Barnardo . Who ' s there ? Fran . Nay answer me : Stand & vnfold your selfe Bar . Long liue the King Fran . Barnardo ? Bar . He Fran . You come most carefully vpon your houre Bar . ' Tis now strook twelue , get thee to bed Francisco Fran . For this releefe much thankes : ' Tis bitter cold , And I am sicke at heart Barn . Haue you had quiet Guard ? Fran . Not a Mouse stirring Barn . Well , goodnight . If you do meet Horatio and Marcellus , the Riuals of my Watch , bid them make hast . Enter Horatio and Marcellus . Fran . I thinke I heare them . Stand : who ' s there ? Hor . Friends to this ground Mar . And Leige - men to the Dane Fran . Giue you good night Mar . O farwel honest Soldier , who hath relieu ' d you ? Fra . Barnardo ha ' s my place : giue you goodnight . Exit Fran . Mar . Holla Barnardo Bar . Say , what is Horatio there ? Hor . A peece of him Bar . Welcome Horatio , welcome good Marcellus Mar . What , ha ' s this thing appear ' d againe to night Bar . I haue seene nothing Mar . Horatio saies , ' tis but our Fantasie , And will not let beleefe take hold of him Touching this dreaded sight , twice seene of vs , Therefore I haue intreated him along With vs , to watch the minutes of this Night , That if againe this Apparition come , He may approue our eyes , and speake to it Hor . Tush , tush , ' twill not appeare Bar . Sit downe a - while , And let vs once againe assaile your eares , That are so fortified against our Story , What we two Nights haue seene Hor . Well , sit we downe , And let vs heare Barnardo speake of this Barn . Last night of all , When yond same Starre that ' s Westward from the Pole Had made his course t ' illume that part of Heauen Where now it burnes , Marcellus and my selfe , The Bell then beating one Mar . Peace , breake thee of : Enter the Ghost . Looke where it comes againe Barn . In the same figure , like the King that ' s dead Mar . Thou art a Scholler ; speake to it Horatio Barn . Lookes it not like the King ? Marke it Horatio Hora . Most like : It harrowes me with fear & wonder Barn . It would be spoke too Mar . Question it Horatio Hor . What art "
          ]
        }
      ]
    },
    {
      "cell_type": "code",
      "metadata": {
        "id": "8iE018IngeWl"
      },
      "source": [
        "AI=\"\"\"Life is beautiful but not always easy, it has problems, too, and the challenge lies in facing them with courage, letting the beauty of life act like a balm, which makes the pain bearable, during trying times, by providing hope.Happiness, sorrow, victory, defeat, day-night are the two sides of the me coin. Similarly life is full of moments of joy, pleasure, success and comfort punctuated by misery, defeat, failures and problems. There is no human being on Earth, strong, powerful, wise or rich, who has not experienced, struggle, suffering or failure.\"\"\""
      ],
      "execution_count": 9,
      "outputs": []
    },
    {
      "cell_type": "code",
      "metadata": {
        "colab": {
          "base_uri": "https://localhost:8080/"
        },
        "id": "LmzadtV7h84n",
        "outputId": "2eaa5ef7-0dca-46ea-e018-289476c7efe6"
      },
      "source": [
        "type(AI)"
      ],
      "execution_count": 10,
      "outputs": [
        {
          "output_type": "execute_result",
          "data": {
            "text/plain": [
              "str"
            ]
          },
          "metadata": {},
          "execution_count": 10
        }
      ]
    },
    {
      "cell_type": "code",
      "metadata": {
        "id": "9Y-LCFNeiMqO"
      },
      "source": [
        "from nltk.tokenize import word_tokenize"
      ],
      "execution_count": 11,
      "outputs": []
    },
    {
      "cell_type": "code",
      "metadata": {
        "colab": {
          "base_uri": "https://localhost:8080/"
        },
        "id": "TIbgqISEzPIl",
        "outputId": "382aee0f-0dff-4991-e0c3-e08b89574d42"
      },
      "source": [
        "nltk.download('punkt')"
      ],
      "execution_count": 12,
      "outputs": [
        {
          "output_type": "stream",
          "name": "stderr",
          "text": [
            "[nltk_data] Downloading package punkt to /root/nltk_data...\n",
            "[nltk_data]   Package punkt is already up-to-date!\n"
          ]
        },
        {
          "output_type": "execute_result",
          "data": {
            "text/plain": [
              "True"
            ]
          },
          "metadata": {},
          "execution_count": 12
        }
      ]
    },
    {
      "cell_type": "code",
      "metadata": {
        "colab": {
          "base_uri": "https://localhost:8080/"
        },
        "id": "kfd5Em8VeXpk",
        "outputId": "74d80500-7509-4afd-f5a0-9164876682c0"
      },
      "source": [
        "AI_tokens=word_tokenize(AI)\n",
        "AI_tokens"
      ],
      "execution_count": 13,
      "outputs": [
        {
          "output_type": "execute_result",
          "data": {
            "text/plain": [
              "['Life',\n",
              " 'is',\n",
              " 'beautiful',\n",
              " 'but',\n",
              " 'not',\n",
              " 'always',\n",
              " 'easy',\n",
              " ',',\n",
              " 'it',\n",
              " 'has',\n",
              " 'problems',\n",
              " ',',\n",
              " 'too',\n",
              " ',',\n",
              " 'and',\n",
              " 'the',\n",
              " 'challenge',\n",
              " 'lies',\n",
              " 'in',\n",
              " 'facing',\n",
              " 'them',\n",
              " 'with',\n",
              " 'courage',\n",
              " ',',\n",
              " 'letting',\n",
              " 'the',\n",
              " 'beauty',\n",
              " 'of',\n",
              " 'life',\n",
              " 'act',\n",
              " 'like',\n",
              " 'a',\n",
              " 'balm',\n",
              " ',',\n",
              " 'which',\n",
              " 'makes',\n",
              " 'the',\n",
              " 'pain',\n",
              " 'bearable',\n",
              " ',',\n",
              " 'during',\n",
              " 'trying',\n",
              " 'times',\n",
              " ',',\n",
              " 'by',\n",
              " 'providing',\n",
              " 'hope.Happiness',\n",
              " ',',\n",
              " 'sorrow',\n",
              " ',',\n",
              " 'victory',\n",
              " ',',\n",
              " 'defeat',\n",
              " ',',\n",
              " 'day-night',\n",
              " 'are',\n",
              " 'the',\n",
              " 'two',\n",
              " 'sides',\n",
              " 'of',\n",
              " 'the',\n",
              " 'me',\n",
              " 'coin',\n",
              " '.',\n",
              " 'Similarly',\n",
              " 'life',\n",
              " 'is',\n",
              " 'full',\n",
              " 'of',\n",
              " 'moments',\n",
              " 'of',\n",
              " 'joy',\n",
              " ',',\n",
              " 'pleasure',\n",
              " ',',\n",
              " 'success',\n",
              " 'and',\n",
              " 'comfort',\n",
              " 'punctuated',\n",
              " 'by',\n",
              " 'misery',\n",
              " ',',\n",
              " 'defeat',\n",
              " ',',\n",
              " 'failures',\n",
              " 'and',\n",
              " 'problems',\n",
              " '.',\n",
              " 'There',\n",
              " 'is',\n",
              " 'no',\n",
              " 'human',\n",
              " 'being',\n",
              " 'on',\n",
              " 'Earth',\n",
              " ',',\n",
              " 'strong',\n",
              " ',',\n",
              " 'powerful',\n",
              " ',',\n",
              " 'wise',\n",
              " 'or',\n",
              " 'rich',\n",
              " ',',\n",
              " 'who',\n",
              " 'has',\n",
              " 'not',\n",
              " 'experienced',\n",
              " ',',\n",
              " 'struggle',\n",
              " ',',\n",
              " 'suffering',\n",
              " 'or',\n",
              " 'failure',\n",
              " '.']"
            ]
          },
          "metadata": {},
          "execution_count": 13
        }
      ]
    },
    {
      "cell_type": "code",
      "metadata": {
        "colab": {
          "base_uri": "https://localhost:8080/"
        },
        "id": "RCMGxZsofSP-",
        "outputId": "12a9609a-5965-4da0-866b-4632cf77d8ad"
      },
      "source": [
        "len(AI_tokens)"
      ],
      "execution_count": 14,
      "outputs": [
        {
          "output_type": "execute_result",
          "data": {
            "text/plain": [
              "115"
            ]
          },
          "metadata": {},
          "execution_count": 14
        }
      ]
    },
    {
      "cell_type": "code",
      "metadata": {
        "id": "WcDG-XrjfXCl"
      },
      "source": [
        "from nltk.probability import FreqDist\n",
        "fdist= FreqDist()"
      ],
      "execution_count": 15,
      "outputs": []
    },
    {
      "cell_type": "code",
      "metadata": {
        "colab": {
          "base_uri": "https://localhost:8080/"
        },
        "id": "28uT4inMfo8n",
        "outputId": "087a65ed-510c-497d-f3f1-7b30e842c8c9"
      },
      "source": [
        "for word in AI_tokens:\n",
        "  fdist[word.lower()]+=1\n",
        "fdist"
      ],
      "execution_count": 16,
      "outputs": [
        {
          "output_type": "execute_result",
          "data": {
            "text/plain": [
              "FreqDist({',': 21, 'the': 5, 'of': 4, 'life': 3, 'is': 3, 'and': 3, '.': 3, 'not': 2, 'has': 2, 'problems': 2, ...})"
            ]
          },
          "metadata": {},
          "execution_count": 16
        }
      ]
    },
    {
      "cell_type": "code",
      "metadata": {
        "colab": {
          "base_uri": "https://localhost:8080/"
        },
        "id": "_oykxwh1hVwp",
        "outputId": "d17374b3-61a1-424c-c461-75c98e7381c0"
      },
      "source": [
        "fdist['beautiful']"
      ],
      "execution_count": 17,
      "outputs": [
        {
          "output_type": "execute_result",
          "data": {
            "text/plain": [
              "1"
            ]
          },
          "metadata": {},
          "execution_count": 17
        }
      ]
    },
    {
      "cell_type": "code",
      "metadata": {
        "colab": {
          "base_uri": "https://localhost:8080/"
        },
        "id": "OvEScd2mhlns",
        "outputId": "15a74139-1a5f-4bcb-dfe0-aa75f65bd340"
      },
      "source": [
        "fdist['and']"
      ],
      "execution_count": 18,
      "outputs": [
        {
          "output_type": "execute_result",
          "data": {
            "text/plain": [
              "3"
            ]
          },
          "metadata": {},
          "execution_count": 18
        }
      ]
    },
    {
      "cell_type": "code",
      "metadata": {
        "colab": {
          "base_uri": "https://localhost:8080/"
        },
        "id": "tGPJ6pomhs2r",
        "outputId": "005a3634-2260-4c5d-8822-ec0fa98e78f8"
      },
      "source": [
        "len(fdist)"
      ],
      "execution_count": 19,
      "outputs": [
        {
          "output_type": "execute_result",
          "data": {
            "text/plain": [
              "74"
            ]
          },
          "metadata": {},
          "execution_count": 19
        }
      ]
    },
    {
      "cell_type": "code",
      "metadata": {
        "colab": {
          "base_uri": "https://localhost:8080/"
        },
        "id": "K6HTt-LciCRw",
        "outputId": "86df6e92-6227-4e2b-8a1a-67d9f9be848a"
      },
      "source": [
        "fdist_top10 = fdist.most_common(10)\n",
        "fdist_top10"
      ],
      "execution_count": 20,
      "outputs": [
        {
          "output_type": "execute_result",
          "data": {
            "text/plain": [
              "[(',', 21),\n",
              " ('the', 5),\n",
              " ('of', 4),\n",
              " ('life', 3),\n",
              " ('is', 3),\n",
              " ('and', 3),\n",
              " ('.', 3),\n",
              " ('not', 2),\n",
              " ('has', 2),\n",
              " ('problems', 2)]"
            ]
          },
          "metadata": {},
          "execution_count": 20
        }
      ]
    },
    {
      "cell_type": "code",
      "metadata": {
        "colab": {
          "base_uri": "https://localhost:8080/"
        },
        "id": "3jpBTf6miZmm",
        "outputId": "3ce45496-5635-4c08-d3cf-cc502cb83e10"
      },
      "source": [
        "from nltk.tokenize import blankline_tokenize\n",
        "AI_blank=blankline_tokenize(AI)\n",
        "len(AI_blank)"
      ],
      "execution_count": 21,
      "outputs": [
        {
          "output_type": "execute_result",
          "data": {
            "text/plain": [
              "1"
            ]
          },
          "metadata": {},
          "execution_count": 21
        }
      ]
    },
    {
      "cell_type": "code",
      "metadata": {
        "colab": {
          "base_uri": "https://localhost:8080/",
          "height": 88
        },
        "id": "-6666n6Ji_KU",
        "outputId": "f1d52b72-4581-480e-af2a-2fc6659c188e"
      },
      "source": [
        "AI_blank[0]"
      ],
      "execution_count": 22,
      "outputs": [
        {
          "output_type": "execute_result",
          "data": {
            "text/plain": [
              "'Life is beautiful but not always easy, it has problems, too, and the challenge lies in facing them with courage, letting the beauty of life act like a balm, which makes the pain bearable, during trying times, by providing hope.Happiness, sorrow, victory, defeat, day-night are the two sides of the me coin. Similarly life is full of moments of joy, pleasure, success and comfort punctuated by misery, defeat, failures and problems. There is no human being on Earth, strong, powerful, wise or rich, who has not experienced, struggle, suffering or failure.'"
            ],
            "application/vnd.google.colaboratory.intrinsic+json": {
              "type": "string"
            }
          },
          "metadata": {},
          "execution_count": 22
        }
      ]
    },
    {
      "cell_type": "code",
      "metadata": {
        "id": "6PHmALpgj0Rc"
      },
      "source": [
        "from nltk.util import bigrams, trigrams, ngrams"
      ],
      "execution_count": 23,
      "outputs": []
    },
    {
      "cell_type": "code",
      "metadata": {
        "id": "e38ffkIikA_q"
      },
      "source": [
        "import string"
      ],
      "execution_count": 24,
      "outputs": []
    },
    {
      "cell_type": "code",
      "metadata": {
        "colab": {
          "base_uri": "https://localhost:8080/"
        },
        "id": "v-pNzkm1wf-P",
        "outputId": "0d5e874d-6212-4236-d373-4d5441ae4025"
      },
      "source": [
        "!pip3 install nltk\n",
        "import nltk"
      ],
      "execution_count": 25,
      "outputs": [
        {
          "output_type": "stream",
          "name": "stdout",
          "text": [
            "Requirement already satisfied: nltk in /usr/local/lib/python3.10/dist-packages (3.8.1)\n",
            "Requirement already satisfied: click in /usr/local/lib/python3.10/dist-packages (from nltk) (8.1.7)\n",
            "Requirement already satisfied: joblib in /usr/local/lib/python3.10/dist-packages (from nltk) (1.3.2)\n",
            "Requirement already satisfied: regex>=2021.8.3 in /usr/local/lib/python3.10/dist-packages (from nltk) (2023.6.3)\n",
            "Requirement already satisfied: tqdm in /usr/local/lib/python3.10/dist-packages (from nltk) (4.66.1)\n"
          ]
        }
      ]
    },
    {
      "cell_type": "code",
      "metadata": {
        "colab": {
          "base_uri": "https://localhost:8080/"
        },
        "id": "TQVpSyWgxAqH",
        "outputId": "a6d25358-5507-4ca7-a090-7376fe9e1dd9"
      },
      "source": [
        "nltk.download('punkt')"
      ],
      "execution_count": 26,
      "outputs": [
        {
          "output_type": "stream",
          "name": "stderr",
          "text": [
            "[nltk_data] Downloading package punkt to /root/nltk_data...\n",
            "[nltk_data]   Package punkt is already up-to-date!\n"
          ]
        },
        {
          "output_type": "execute_result",
          "data": {
            "text/plain": [
              "True"
            ]
          },
          "metadata": {},
          "execution_count": 26
        }
      ]
    },
    {
      "cell_type": "code",
      "metadata": {
        "colab": {
          "base_uri": "https://localhost:8080/"
        },
        "id": "nVL9y0MHwwqt",
        "outputId": "5b3faa6d-38fb-48c3-a774-17dfcb441ce5"
      },
      "source": [
        "string = \"Sing like no one’s listening, love like you’ve never been hurt, dance like nobody’s watching, and live like it’s heaven on earth.\"\n",
        "quotes_tokens = nltk.word_tokenize(string)\n",
        "quotes_tokens"
      ],
      "execution_count": 27,
      "outputs": [
        {
          "output_type": "execute_result",
          "data": {
            "text/plain": [
              "['Sing',\n",
              " 'like',\n",
              " 'no',\n",
              " 'one',\n",
              " '’',\n",
              " 's',\n",
              " 'listening',\n",
              " ',',\n",
              " 'love',\n",
              " 'like',\n",
              " 'you',\n",
              " '’',\n",
              " 've',\n",
              " 'never',\n",
              " 'been',\n",
              " 'hurt',\n",
              " ',',\n",
              " 'dance',\n",
              " 'like',\n",
              " 'nobody',\n",
              " '’',\n",
              " 's',\n",
              " 'watching',\n",
              " ',',\n",
              " 'and',\n",
              " 'live',\n",
              " 'like',\n",
              " 'it',\n",
              " '’',\n",
              " 's',\n",
              " 'heaven',\n",
              " 'on',\n",
              " 'earth',\n",
              " '.']"
            ]
          },
          "metadata": {},
          "execution_count": 27
        }
      ]
    },
    {
      "cell_type": "code",
      "metadata": {
        "colab": {
          "base_uri": "https://localhost:8080/"
        },
        "id": "kW6iwvGpxfzL",
        "outputId": "d793668e-9529-4876-a8f4-07abb16ee0b4"
      },
      "source": [
        "quotes_tokens = list(nltk.bigrams(quotes_tokens))\n",
        "quotes_tokens"
      ],
      "execution_count": 28,
      "outputs": [
        {
          "output_type": "execute_result",
          "data": {
            "text/plain": [
              "[('Sing', 'like'),\n",
              " ('like', 'no'),\n",
              " ('no', 'one'),\n",
              " ('one', '’'),\n",
              " ('’', 's'),\n",
              " ('s', 'listening'),\n",
              " ('listening', ','),\n",
              " (',', 'love'),\n",
              " ('love', 'like'),\n",
              " ('like', 'you'),\n",
              " ('you', '’'),\n",
              " ('’', 've'),\n",
              " ('ve', 'never'),\n",
              " ('never', 'been'),\n",
              " ('been', 'hurt'),\n",
              " ('hurt', ','),\n",
              " (',', 'dance'),\n",
              " ('dance', 'like'),\n",
              " ('like', 'nobody'),\n",
              " ('nobody', '’'),\n",
              " ('’', 's'),\n",
              " ('s', 'watching'),\n",
              " ('watching', ','),\n",
              " (',', 'and'),\n",
              " ('and', 'live'),\n",
              " ('live', 'like'),\n",
              " ('like', 'it'),\n",
              " ('it', '’'),\n",
              " ('’', 's'),\n",
              " ('s', 'heaven'),\n",
              " ('heaven', 'on'),\n",
              " ('on', 'earth'),\n",
              " ('earth', '.')]"
            ]
          },
          "metadata": {},
          "execution_count": 28
        }
      ]
    },
    {
      "cell_type": "code",
      "metadata": {
        "colab": {
          "base_uri": "https://localhost:8080/"
        },
        "id": "fPSKXXA7yPF0",
        "outputId": "4e9663c9-9916-4dc0-8964-419c7c54cc33"
      },
      "source": [
        "quotes_tokens = list(nltk.trigrams(quotes_tokens))\n",
        "quotes_tokens"
      ],
      "execution_count": 29,
      "outputs": [
        {
          "output_type": "execute_result",
          "data": {
            "text/plain": [
              "[(('Sing', 'like'), ('like', 'no'), ('no', 'one')),\n",
              " (('like', 'no'), ('no', 'one'), ('one', '’')),\n",
              " (('no', 'one'), ('one', '’'), ('’', 's')),\n",
              " (('one', '’'), ('’', 's'), ('s', 'listening')),\n",
              " (('’', 's'), ('s', 'listening'), ('listening', ',')),\n",
              " (('s', 'listening'), ('listening', ','), (',', 'love')),\n",
              " (('listening', ','), (',', 'love'), ('love', 'like')),\n",
              " ((',', 'love'), ('love', 'like'), ('like', 'you')),\n",
              " (('love', 'like'), ('like', 'you'), ('you', '’')),\n",
              " (('like', 'you'), ('you', '’'), ('’', 've')),\n",
              " (('you', '’'), ('’', 've'), ('ve', 'never')),\n",
              " (('’', 've'), ('ve', 'never'), ('never', 'been')),\n",
              " (('ve', 'never'), ('never', 'been'), ('been', 'hurt')),\n",
              " (('never', 'been'), ('been', 'hurt'), ('hurt', ',')),\n",
              " (('been', 'hurt'), ('hurt', ','), (',', 'dance')),\n",
              " (('hurt', ','), (',', 'dance'), ('dance', 'like')),\n",
              " ((',', 'dance'), ('dance', 'like'), ('like', 'nobody')),\n",
              " (('dance', 'like'), ('like', 'nobody'), ('nobody', '’')),\n",
              " (('like', 'nobody'), ('nobody', '’'), ('’', 's')),\n",
              " (('nobody', '’'), ('’', 's'), ('s', 'watching')),\n",
              " (('’', 's'), ('s', 'watching'), ('watching', ',')),\n",
              " (('s', 'watching'), ('watching', ','), (',', 'and')),\n",
              " (('watching', ','), (',', 'and'), ('and', 'live')),\n",
              " ((',', 'and'), ('and', 'live'), ('live', 'like')),\n",
              " (('and', 'live'), ('live', 'like'), ('like', 'it')),\n",
              " (('live', 'like'), ('like', 'it'), ('it', '’')),\n",
              " (('like', 'it'), ('it', '’'), ('’', 's')),\n",
              " (('it', '’'), ('’', 's'), ('s', 'heaven')),\n",
              " (('’', 's'), ('s', 'heaven'), ('heaven', 'on')),\n",
              " (('s', 'heaven'), ('heaven', 'on'), ('on', 'earth')),\n",
              " (('heaven', 'on'), ('on', 'earth'), ('earth', '.'))]"
            ]
          },
          "metadata": {},
          "execution_count": 29
        }
      ]
    },
    {
      "cell_type": "code",
      "metadata": {
        "colab": {
          "base_uri": "https://localhost:8080/"
        },
        "id": "uxN__xcryofy",
        "outputId": "b537080f-2b09-4baa-9ab3-901ac0746731"
      },
      "source": [
        "quotes_ngrams = list(nltk.ngrams(quotes_tokens, 5))\n",
        "quotes_ngrams"
      ],
      "execution_count": 30,
      "outputs": [
        {
          "output_type": "execute_result",
          "data": {
            "text/plain": [
              "[((('Sing', 'like'), ('like', 'no'), ('no', 'one')),\n",
              "  (('like', 'no'), ('no', 'one'), ('one', '’')),\n",
              "  (('no', 'one'), ('one', '’'), ('’', 's')),\n",
              "  (('one', '’'), ('’', 's'), ('s', 'listening')),\n",
              "  (('’', 's'), ('s', 'listening'), ('listening', ','))),\n",
              " ((('like', 'no'), ('no', 'one'), ('one', '’')),\n",
              "  (('no', 'one'), ('one', '’'), ('’', 's')),\n",
              "  (('one', '’'), ('’', 's'), ('s', 'listening')),\n",
              "  (('’', 's'), ('s', 'listening'), ('listening', ',')),\n",
              "  (('s', 'listening'), ('listening', ','), (',', 'love'))),\n",
              " ((('no', 'one'), ('one', '’'), ('’', 's')),\n",
              "  (('one', '’'), ('’', 's'), ('s', 'listening')),\n",
              "  (('’', 's'), ('s', 'listening'), ('listening', ',')),\n",
              "  (('s', 'listening'), ('listening', ','), (',', 'love')),\n",
              "  (('listening', ','), (',', 'love'), ('love', 'like'))),\n",
              " ((('one', '’'), ('’', 's'), ('s', 'listening')),\n",
              "  (('’', 's'), ('s', 'listening'), ('listening', ',')),\n",
              "  (('s', 'listening'), ('listening', ','), (',', 'love')),\n",
              "  (('listening', ','), (',', 'love'), ('love', 'like')),\n",
              "  ((',', 'love'), ('love', 'like'), ('like', 'you'))),\n",
              " ((('’', 's'), ('s', 'listening'), ('listening', ',')),\n",
              "  (('s', 'listening'), ('listening', ','), (',', 'love')),\n",
              "  (('listening', ','), (',', 'love'), ('love', 'like')),\n",
              "  ((',', 'love'), ('love', 'like'), ('like', 'you')),\n",
              "  (('love', 'like'), ('like', 'you'), ('you', '’'))),\n",
              " ((('s', 'listening'), ('listening', ','), (',', 'love')),\n",
              "  (('listening', ','), (',', 'love'), ('love', 'like')),\n",
              "  ((',', 'love'), ('love', 'like'), ('like', 'you')),\n",
              "  (('love', 'like'), ('like', 'you'), ('you', '’')),\n",
              "  (('like', 'you'), ('you', '’'), ('’', 've'))),\n",
              " ((('listening', ','), (',', 'love'), ('love', 'like')),\n",
              "  ((',', 'love'), ('love', 'like'), ('like', 'you')),\n",
              "  (('love', 'like'), ('like', 'you'), ('you', '’')),\n",
              "  (('like', 'you'), ('you', '’'), ('’', 've')),\n",
              "  (('you', '’'), ('’', 've'), ('ve', 'never'))),\n",
              " (((',', 'love'), ('love', 'like'), ('like', 'you')),\n",
              "  (('love', 'like'), ('like', 'you'), ('you', '’')),\n",
              "  (('like', 'you'), ('you', '’'), ('’', 've')),\n",
              "  (('you', '’'), ('’', 've'), ('ve', 'never')),\n",
              "  (('’', 've'), ('ve', 'never'), ('never', 'been'))),\n",
              " ((('love', 'like'), ('like', 'you'), ('you', '’')),\n",
              "  (('like', 'you'), ('you', '’'), ('’', 've')),\n",
              "  (('you', '’'), ('’', 've'), ('ve', 'never')),\n",
              "  (('’', 've'), ('ve', 'never'), ('never', 'been')),\n",
              "  (('ve', 'never'), ('never', 'been'), ('been', 'hurt'))),\n",
              " ((('like', 'you'), ('you', '’'), ('’', 've')),\n",
              "  (('you', '’'), ('’', 've'), ('ve', 'never')),\n",
              "  (('’', 've'), ('ve', 'never'), ('never', 'been')),\n",
              "  (('ve', 'never'), ('never', 'been'), ('been', 'hurt')),\n",
              "  (('never', 'been'), ('been', 'hurt'), ('hurt', ','))),\n",
              " ((('you', '’'), ('’', 've'), ('ve', 'never')),\n",
              "  (('’', 've'), ('ve', 'never'), ('never', 'been')),\n",
              "  (('ve', 'never'), ('never', 'been'), ('been', 'hurt')),\n",
              "  (('never', 'been'), ('been', 'hurt'), ('hurt', ',')),\n",
              "  (('been', 'hurt'), ('hurt', ','), (',', 'dance'))),\n",
              " ((('’', 've'), ('ve', 'never'), ('never', 'been')),\n",
              "  (('ve', 'never'), ('never', 'been'), ('been', 'hurt')),\n",
              "  (('never', 'been'), ('been', 'hurt'), ('hurt', ',')),\n",
              "  (('been', 'hurt'), ('hurt', ','), (',', 'dance')),\n",
              "  (('hurt', ','), (',', 'dance'), ('dance', 'like'))),\n",
              " ((('ve', 'never'), ('never', 'been'), ('been', 'hurt')),\n",
              "  (('never', 'been'), ('been', 'hurt'), ('hurt', ',')),\n",
              "  (('been', 'hurt'), ('hurt', ','), (',', 'dance')),\n",
              "  (('hurt', ','), (',', 'dance'), ('dance', 'like')),\n",
              "  ((',', 'dance'), ('dance', 'like'), ('like', 'nobody'))),\n",
              " ((('never', 'been'), ('been', 'hurt'), ('hurt', ',')),\n",
              "  (('been', 'hurt'), ('hurt', ','), (',', 'dance')),\n",
              "  (('hurt', ','), (',', 'dance'), ('dance', 'like')),\n",
              "  ((',', 'dance'), ('dance', 'like'), ('like', 'nobody')),\n",
              "  (('dance', 'like'), ('like', 'nobody'), ('nobody', '’'))),\n",
              " ((('been', 'hurt'), ('hurt', ','), (',', 'dance')),\n",
              "  (('hurt', ','), (',', 'dance'), ('dance', 'like')),\n",
              "  ((',', 'dance'), ('dance', 'like'), ('like', 'nobody')),\n",
              "  (('dance', 'like'), ('like', 'nobody'), ('nobody', '’')),\n",
              "  (('like', 'nobody'), ('nobody', '’'), ('’', 's'))),\n",
              " ((('hurt', ','), (',', 'dance'), ('dance', 'like')),\n",
              "  ((',', 'dance'), ('dance', 'like'), ('like', 'nobody')),\n",
              "  (('dance', 'like'), ('like', 'nobody'), ('nobody', '’')),\n",
              "  (('like', 'nobody'), ('nobody', '’'), ('’', 's')),\n",
              "  (('nobody', '’'), ('’', 's'), ('s', 'watching'))),\n",
              " (((',', 'dance'), ('dance', 'like'), ('like', 'nobody')),\n",
              "  (('dance', 'like'), ('like', 'nobody'), ('nobody', '’')),\n",
              "  (('like', 'nobody'), ('nobody', '’'), ('’', 's')),\n",
              "  (('nobody', '’'), ('’', 's'), ('s', 'watching')),\n",
              "  (('’', 's'), ('s', 'watching'), ('watching', ','))),\n",
              " ((('dance', 'like'), ('like', 'nobody'), ('nobody', '’')),\n",
              "  (('like', 'nobody'), ('nobody', '’'), ('’', 's')),\n",
              "  (('nobody', '’'), ('’', 's'), ('s', 'watching')),\n",
              "  (('’', 's'), ('s', 'watching'), ('watching', ',')),\n",
              "  (('s', 'watching'), ('watching', ','), (',', 'and'))),\n",
              " ((('like', 'nobody'), ('nobody', '’'), ('’', 's')),\n",
              "  (('nobody', '’'), ('’', 's'), ('s', 'watching')),\n",
              "  (('’', 's'), ('s', 'watching'), ('watching', ',')),\n",
              "  (('s', 'watching'), ('watching', ','), (',', 'and')),\n",
              "  (('watching', ','), (',', 'and'), ('and', 'live'))),\n",
              " ((('nobody', '’'), ('’', 's'), ('s', 'watching')),\n",
              "  (('’', 's'), ('s', 'watching'), ('watching', ',')),\n",
              "  (('s', 'watching'), ('watching', ','), (',', 'and')),\n",
              "  (('watching', ','), (',', 'and'), ('and', 'live')),\n",
              "  ((',', 'and'), ('and', 'live'), ('live', 'like'))),\n",
              " ((('’', 's'), ('s', 'watching'), ('watching', ',')),\n",
              "  (('s', 'watching'), ('watching', ','), (',', 'and')),\n",
              "  (('watching', ','), (',', 'and'), ('and', 'live')),\n",
              "  ((',', 'and'), ('and', 'live'), ('live', 'like')),\n",
              "  (('and', 'live'), ('live', 'like'), ('like', 'it'))),\n",
              " ((('s', 'watching'), ('watching', ','), (',', 'and')),\n",
              "  (('watching', ','), (',', 'and'), ('and', 'live')),\n",
              "  ((',', 'and'), ('and', 'live'), ('live', 'like')),\n",
              "  (('and', 'live'), ('live', 'like'), ('like', 'it')),\n",
              "  (('live', 'like'), ('like', 'it'), ('it', '’'))),\n",
              " ((('watching', ','), (',', 'and'), ('and', 'live')),\n",
              "  ((',', 'and'), ('and', 'live'), ('live', 'like')),\n",
              "  (('and', 'live'), ('live', 'like'), ('like', 'it')),\n",
              "  (('live', 'like'), ('like', 'it'), ('it', '’')),\n",
              "  (('like', 'it'), ('it', '’'), ('’', 's'))),\n",
              " (((',', 'and'), ('and', 'live'), ('live', 'like')),\n",
              "  (('and', 'live'), ('live', 'like'), ('like', 'it')),\n",
              "  (('live', 'like'), ('like', 'it'), ('it', '’')),\n",
              "  (('like', 'it'), ('it', '’'), ('’', 's')),\n",
              "  (('it', '’'), ('’', 's'), ('s', 'heaven'))),\n",
              " ((('and', 'live'), ('live', 'like'), ('like', 'it')),\n",
              "  (('live', 'like'), ('like', 'it'), ('it', '’')),\n",
              "  (('like', 'it'), ('it', '’'), ('’', 's')),\n",
              "  (('it', '’'), ('’', 's'), ('s', 'heaven')),\n",
              "  (('’', 's'), ('s', 'heaven'), ('heaven', 'on'))),\n",
              " ((('live', 'like'), ('like', 'it'), ('it', '’')),\n",
              "  (('like', 'it'), ('it', '’'), ('’', 's')),\n",
              "  (('it', '’'), ('’', 's'), ('s', 'heaven')),\n",
              "  (('’', 's'), ('s', 'heaven'), ('heaven', 'on')),\n",
              "  (('s', 'heaven'), ('heaven', 'on'), ('on', 'earth'))),\n",
              " ((('like', 'it'), ('it', '’'), ('’', 's')),\n",
              "  (('it', '’'), ('’', 's'), ('s', 'heaven')),\n",
              "  (('’', 's'), ('s', 'heaven'), ('heaven', 'on')),\n",
              "  (('s', 'heaven'), ('heaven', 'on'), ('on', 'earth')),\n",
              "  (('heaven', 'on'), ('on', 'earth'), ('earth', '.')))]"
            ]
          },
          "metadata": {},
          "execution_count": 30
        }
      ]
    },
    {
      "cell_type": "code",
      "metadata": {
        "id": "4R8ON1LKzU7J"
      },
      "source": [
        "from nltk.stem import PorterStemmer\n",
        "pst=PorterStemmer"
      ],
      "execution_count": 31,
      "outputs": []
    },
    {
      "cell_type": "code",
      "metadata": {
        "colab": {
          "base_uri": "https://localhost:8080/"
        },
        "id": "-0VFnnq99IHf",
        "outputId": "0c5344f3-b496-4e70-d8f3-08356f004bae"
      },
      "source": [
        "nltk.download('stopwords')\n",
        "nltk.download('wordnet')\n",
        "nltk.download('punkt')\n",
        "nltk.download('averaged_perceptron_tagger')"
      ],
      "execution_count": 32,
      "outputs": [
        {
          "output_type": "stream",
          "name": "stderr",
          "text": [
            "[nltk_data] Downloading package stopwords to /root/nltk_data...\n",
            "[nltk_data]   Package stopwords is already up-to-date!\n",
            "[nltk_data] Downloading package wordnet to /root/nltk_data...\n",
            "[nltk_data]   Package wordnet is already up-to-date!\n",
            "[nltk_data] Downloading package punkt to /root/nltk_data...\n",
            "[nltk_data]   Package punkt is already up-to-date!\n",
            "[nltk_data] Downloading package averaged_perceptron_tagger to\n",
            "[nltk_data]     /root/nltk_data...\n",
            "[nltk_data]   Package averaged_perceptron_tagger is already up-to-\n",
            "[nltk_data]       date!\n"
          ]
        },
        {
          "output_type": "execute_result",
          "data": {
            "text/plain": [
              "True"
            ]
          },
          "metadata": {},
          "execution_count": 32
        }
      ]
    },
    {
      "cell_type": "code",
      "metadata": {
        "id": "QiL29iXT9UBw"
      },
      "source": [
        " from nltk.stem import PorterStemmer\n",
        "pst=PorterStemmer()"
      ],
      "execution_count": 33,
      "outputs": []
    },
    {
      "cell_type": "code",
      "metadata": {
        "colab": {
          "base_uri": "https://localhost:8080/",
          "height": 36
        },
        "id": "64c7P72zz080",
        "outputId": "e6b60809-2b5e-4eac-f548-8788f5e6dc16"
      },
      "source": [
        "pst.stem(\"having\")"
      ],
      "execution_count": 34,
      "outputs": [
        {
          "output_type": "execute_result",
          "data": {
            "text/plain": [
              "'have'"
            ],
            "application/vnd.google.colaboratory.intrinsic+json": {
              "type": "string"
            }
          },
          "metadata": {},
          "execution_count": 34
        }
      ]
    },
    {
      "cell_type": "code",
      "metadata": {
        "colab": {
          "base_uri": "https://localhost:8080/"
        },
        "id": "XzCGhHHB2xYn",
        "outputId": "0a9dd3e2-9234-4f23-ee74-f8ad81b0fa3a"
      },
      "source": [
        "words_to_stem=[\"give\",\"giving\",\"given\",\"gave\"]\n",
        "for words in words_to_stem:\n",
        "  print(words+ \":\" +pst.stem(words))"
      ],
      "execution_count": 35,
      "outputs": [
        {
          "output_type": "stream",
          "name": "stdout",
          "text": [
            "give:give\n",
            "giving:give\n",
            "given:given\n",
            "gave:gave\n"
          ]
        }
      ]
    },
    {
      "cell_type": "code",
      "metadata": {
        "colab": {
          "base_uri": "https://localhost:8080/"
        },
        "id": "4z2ij6aR_TAs",
        "outputId": "b2d7676e-71cc-44ec-e3df-5e5e696acef3"
      },
      "source": [
        "from nltk.stem import LancasterStemmer\n",
        "lst=LancasterStemmer()\n",
        "for words in words_to_stem:\n",
        " print(words+ \":\" +lst.stem(words))"
      ],
      "execution_count": 36,
      "outputs": [
        {
          "output_type": "stream",
          "name": "stdout",
          "text": [
            "give:giv\n",
            "giving:giv\n",
            "given:giv\n",
            "gave:gav\n"
          ]
        }
      ]
    },
    {
      "cell_type": "code",
      "metadata": {
        "id": "rGDk0JETAYGe"
      },
      "source": [
        "from nltk.stem import SnowballStemmer\n",
        "sbst=SnowballStemmer ('english')"
      ],
      "execution_count": 37,
      "outputs": []
    },
    {
      "cell_type": "code",
      "metadata": {
        "colab": {
          "base_uri": "https://localhost:8080/"
        },
        "id": "2dqgwFXqBOwb",
        "outputId": "3790c9ac-79f5-43f5-d826-c776b4fc91f3"
      },
      "source": [
        "for words in words_to_stem:\n",
        "  print(words+ \":\" +sbst.stem(words))"
      ],
      "execution_count": 38,
      "outputs": [
        {
          "output_type": "stream",
          "name": "stdout",
          "text": [
            "give:give\n",
            "giving:give\n",
            "given:given\n",
            "gave:gave\n"
          ]
        }
      ]
    },
    {
      "cell_type": "code",
      "metadata": {
        "id": "NmsNHXhICBok"
      },
      "source": [
        "from nltk.stem import wordnet\n",
        "from nltk.stem import WordNetLemmatizer\n",
        "word_lem=WordNetLemmatizer()"
      ],
      "execution_count": 39,
      "outputs": []
    },
    {
      "cell_type": "code",
      "metadata": {
        "colab": {
          "base_uri": "https://localhost:8080/"
        },
        "id": "OXLw9yv7M1qV",
        "outputId": "70f54351-5920-483b-e8f1-8ce1b71ded48"
      },
      "source": [
        "nltk.download('wordnet')"
      ],
      "execution_count": 40,
      "outputs": [
        {
          "output_type": "stream",
          "name": "stderr",
          "text": [
            "[nltk_data] Downloading package wordnet to /root/nltk_data...\n",
            "[nltk_data]   Package wordnet is already up-to-date!\n"
          ]
        },
        {
          "output_type": "execute_result",
          "data": {
            "text/plain": [
              "True"
            ]
          },
          "metadata": {},
          "execution_count": 40
        }
      ]
    },
    {
      "cell_type": "code",
      "metadata": {
        "id": "cNgjYYh0KW79"
      },
      "source": [
        "\n",
        "from nltk.corpus import wordnet"
      ],
      "execution_count": 41,
      "outputs": []
    },
    {
      "cell_type": "code",
      "metadata": {
        "colab": {
          "base_uri": "https://localhost:8080/",
          "height": 36
        },
        "id": "gOzSWjHKNnGq",
        "outputId": "a4b3e93a-f8b1-45bd-ab42-298757905526"
      },
      "source": [
        "word_lem.lemmatize('corpora')"
      ],
      "execution_count": 42,
      "outputs": [
        {
          "output_type": "execute_result",
          "data": {
            "text/plain": [
              "'corpus'"
            ],
            "application/vnd.google.colaboratory.intrinsic+json": {
              "type": "string"
            }
          },
          "metadata": {},
          "execution_count": 42
        }
      ]
    },
    {
      "cell_type": "code",
      "metadata": {
        "colab": {
          "base_uri": "https://localhost:8080/"
        },
        "id": "WPvp31V-QHCB",
        "outputId": "aa039cbe-9378-4cc4-c573-cc9ff42fd0d6"
      },
      "source": [
        "for words in words_to_stem:\n",
        "  print(words+ \":\" +word_lem.lemmatize(words))"
      ],
      "execution_count": 43,
      "outputs": [
        {
          "output_type": "stream",
          "name": "stdout",
          "text": [
            "give:give\n",
            "giving:giving\n",
            "given:given\n",
            "gave:gave\n"
          ]
        }
      ]
    },
    {
      "cell_type": "code",
      "metadata": {
        "id": "ugezdo_3Qo_9"
      },
      "source": [
        "from nltk.corpus import stopwords"
      ],
      "execution_count": 44,
      "outputs": []
    },
    {
      "cell_type": "code",
      "metadata": {
        "colab": {
          "base_uri": "https://localhost:8080/"
        },
        "id": "gxPYOg73ReDH",
        "outputId": "8041f366-cca8-4589-9831-14d64e64c1fd"
      },
      "source": [
        "stopwords.words('english')"
      ],
      "execution_count": 45,
      "outputs": [
        {
          "output_type": "execute_result",
          "data": {
            "text/plain": [
              "['i',\n",
              " 'me',\n",
              " 'my',\n",
              " 'myself',\n",
              " 'we',\n",
              " 'our',\n",
              " 'ours',\n",
              " 'ourselves',\n",
              " 'you',\n",
              " \"you're\",\n",
              " \"you've\",\n",
              " \"you'll\",\n",
              " \"you'd\",\n",
              " 'your',\n",
              " 'yours',\n",
              " 'yourself',\n",
              " 'yourselves',\n",
              " 'he',\n",
              " 'him',\n",
              " 'his',\n",
              " 'himself',\n",
              " 'she',\n",
              " \"she's\",\n",
              " 'her',\n",
              " 'hers',\n",
              " 'herself',\n",
              " 'it',\n",
              " \"it's\",\n",
              " 'its',\n",
              " 'itself',\n",
              " 'they',\n",
              " 'them',\n",
              " 'their',\n",
              " 'theirs',\n",
              " 'themselves',\n",
              " 'what',\n",
              " 'which',\n",
              " 'who',\n",
              " 'whom',\n",
              " 'this',\n",
              " 'that',\n",
              " \"that'll\",\n",
              " 'these',\n",
              " 'those',\n",
              " 'am',\n",
              " 'is',\n",
              " 'are',\n",
              " 'was',\n",
              " 'were',\n",
              " 'be',\n",
              " 'been',\n",
              " 'being',\n",
              " 'have',\n",
              " 'has',\n",
              " 'had',\n",
              " 'having',\n",
              " 'do',\n",
              " 'does',\n",
              " 'did',\n",
              " 'doing',\n",
              " 'a',\n",
              " 'an',\n",
              " 'the',\n",
              " 'and',\n",
              " 'but',\n",
              " 'if',\n",
              " 'or',\n",
              " 'because',\n",
              " 'as',\n",
              " 'until',\n",
              " 'while',\n",
              " 'of',\n",
              " 'at',\n",
              " 'by',\n",
              " 'for',\n",
              " 'with',\n",
              " 'about',\n",
              " 'against',\n",
              " 'between',\n",
              " 'into',\n",
              " 'through',\n",
              " 'during',\n",
              " 'before',\n",
              " 'after',\n",
              " 'above',\n",
              " 'below',\n",
              " 'to',\n",
              " 'from',\n",
              " 'up',\n",
              " 'down',\n",
              " 'in',\n",
              " 'out',\n",
              " 'on',\n",
              " 'off',\n",
              " 'over',\n",
              " 'under',\n",
              " 'again',\n",
              " 'further',\n",
              " 'then',\n",
              " 'once',\n",
              " 'here',\n",
              " 'there',\n",
              " 'when',\n",
              " 'where',\n",
              " 'why',\n",
              " 'how',\n",
              " 'all',\n",
              " 'any',\n",
              " 'both',\n",
              " 'each',\n",
              " 'few',\n",
              " 'more',\n",
              " 'most',\n",
              " 'other',\n",
              " 'some',\n",
              " 'such',\n",
              " 'no',\n",
              " 'nor',\n",
              " 'not',\n",
              " 'only',\n",
              " 'own',\n",
              " 'same',\n",
              " 'so',\n",
              " 'than',\n",
              " 'too',\n",
              " 'very',\n",
              " 's',\n",
              " 't',\n",
              " 'can',\n",
              " 'will',\n",
              " 'just',\n",
              " 'don',\n",
              " \"don't\",\n",
              " 'should',\n",
              " \"should've\",\n",
              " 'now',\n",
              " 'd',\n",
              " 'll',\n",
              " 'm',\n",
              " 'o',\n",
              " 're',\n",
              " 've',\n",
              " 'y',\n",
              " 'ain',\n",
              " 'aren',\n",
              " \"aren't\",\n",
              " 'couldn',\n",
              " \"couldn't\",\n",
              " 'didn',\n",
              " \"didn't\",\n",
              " 'doesn',\n",
              " \"doesn't\",\n",
              " 'hadn',\n",
              " \"hadn't\",\n",
              " 'hasn',\n",
              " \"hasn't\",\n",
              " 'haven',\n",
              " \"haven't\",\n",
              " 'isn',\n",
              " \"isn't\",\n",
              " 'ma',\n",
              " 'mightn',\n",
              " \"mightn't\",\n",
              " 'mustn',\n",
              " \"mustn't\",\n",
              " 'needn',\n",
              " \"needn't\",\n",
              " 'shan',\n",
              " \"shan't\",\n",
              " 'shouldn',\n",
              " \"shouldn't\",\n",
              " 'wasn',\n",
              " \"wasn't\",\n",
              " 'weren',\n",
              " \"weren't\",\n",
              " 'won',\n",
              " \"won't\",\n",
              " 'wouldn',\n",
              " \"wouldn't\"]"
            ]
          },
          "metadata": {},
          "execution_count": 45
        }
      ]
    },
    {
      "cell_type": "code",
      "metadata": {
        "colab": {
          "base_uri": "https://localhost:8080/"
        },
        "id": "7gzgj3z8Rn3r",
        "outputId": "a32f941d-1253-4a4a-e42b-9c922711d98f"
      },
      "source": [
        "len(stopwords.words('english'))"
      ],
      "execution_count": 46,
      "outputs": [
        {
          "output_type": "execute_result",
          "data": {
            "text/plain": [
              "179"
            ]
          },
          "metadata": {},
          "execution_count": 46
        }
      ]
    },
    {
      "cell_type": "code",
      "metadata": {
        "colab": {
          "base_uri": "https://localhost:8080/"
        },
        "id": "UD9xDan5R0aF",
        "outputId": "3236aceb-0190-40cb-b073-2dd53a6125db"
      },
      "source": [
        "fdist_top10"
      ],
      "execution_count": 47,
      "outputs": [
        {
          "output_type": "execute_result",
          "data": {
            "text/plain": [
              "[(',', 21),\n",
              " ('the', 5),\n",
              " ('of', 4),\n",
              " ('life', 3),\n",
              " ('is', 3),\n",
              " ('and', 3),\n",
              " ('.', 3),\n",
              " ('not', 2),\n",
              " ('has', 2),\n",
              " ('problems', 2)]"
            ]
          },
          "metadata": {},
          "execution_count": 47
        }
      ]
    },
    {
      "cell_type": "code",
      "metadata": {
        "id": "1qBJHCdgR_k4"
      },
      "source": [
        "import re\n",
        "punctuation=re.compile(r'[-.?!,:;()|0-9]')"
      ],
      "execution_count": 48,
      "outputs": []
    },
    {
      "cell_type": "code",
      "metadata": {
        "id": "ZX8s_NMWSjke"
      },
      "source": [
        "post_punctuation=[]\n",
        "for words in AI_tokens:\n",
        "   word=punctuation.sub(\"\",words)\n",
        "   if len(word)>0:\n",
        "        post_punctuation.append(word)"
      ],
      "execution_count": 49,
      "outputs": []
    },
    {
      "cell_type": "code",
      "metadata": {
        "colab": {
          "base_uri": "https://localhost:8080/"
        },
        "id": "nnXn9jJATU3i",
        "outputId": "7806f3c6-1a8c-46b5-eaaa-3ed7f31fe3ec"
      },
      "source": [
        "post_punctuation"
      ],
      "execution_count": 50,
      "outputs": [
        {
          "output_type": "execute_result",
          "data": {
            "text/plain": [
              "['Life',\n",
              " 'is',\n",
              " 'beautiful',\n",
              " 'but',\n",
              " 'not',\n",
              " 'always',\n",
              " 'easy',\n",
              " 'it',\n",
              " 'has',\n",
              " 'problems',\n",
              " 'too',\n",
              " 'and',\n",
              " 'the',\n",
              " 'challenge',\n",
              " 'lies',\n",
              " 'in',\n",
              " 'facing',\n",
              " 'them',\n",
              " 'with',\n",
              " 'courage',\n",
              " 'letting',\n",
              " 'the',\n",
              " 'beauty',\n",
              " 'of',\n",
              " 'life',\n",
              " 'act',\n",
              " 'like',\n",
              " 'a',\n",
              " 'balm',\n",
              " 'which',\n",
              " 'makes',\n",
              " 'the',\n",
              " 'pain',\n",
              " 'bearable',\n",
              " 'during',\n",
              " 'trying',\n",
              " 'times',\n",
              " 'by',\n",
              " 'providing',\n",
              " 'hopeHappiness',\n",
              " 'sorrow',\n",
              " 'victory',\n",
              " 'defeat',\n",
              " 'daynight',\n",
              " 'are',\n",
              " 'the',\n",
              " 'two',\n",
              " 'sides',\n",
              " 'of',\n",
              " 'the',\n",
              " 'me',\n",
              " 'coin',\n",
              " 'Similarly',\n",
              " 'life',\n",
              " 'is',\n",
              " 'full',\n",
              " 'of',\n",
              " 'moments',\n",
              " 'of',\n",
              " 'joy',\n",
              " 'pleasure',\n",
              " 'success',\n",
              " 'and',\n",
              " 'comfort',\n",
              " 'punctuated',\n",
              " 'by',\n",
              " 'misery',\n",
              " 'defeat',\n",
              " 'failures',\n",
              " 'and',\n",
              " 'problems',\n",
              " 'There',\n",
              " 'is',\n",
              " 'no',\n",
              " 'human',\n",
              " 'being',\n",
              " 'on',\n",
              " 'Earth',\n",
              " 'strong',\n",
              " 'powerful',\n",
              " 'wise',\n",
              " 'or',\n",
              " 'rich',\n",
              " 'who',\n",
              " 'has',\n",
              " 'not',\n",
              " 'experienced',\n",
              " 'struggle',\n",
              " 'suffering',\n",
              " 'or',\n",
              " 'failure']"
            ]
          },
          "metadata": {},
          "execution_count": 50
        }
      ]
    },
    {
      "cell_type": "code",
      "metadata": {
        "id": "kw5Ilm8gTtHf"
      },
      "source": [
        "sent = \"Siddhika is good girl\"\n",
        "sent_tokens = word_tokenize(sent)"
      ],
      "execution_count": 51,
      "outputs": []
    },
    {
      "cell_type": "code",
      "metadata": {
        "colab": {
          "base_uri": "https://localhost:8080/"
        },
        "id": "EcQYtAblUBRX",
        "outputId": "3c30c3bd-1ced-46b6-af2c-09b47a92e729"
      },
      "source": [
        "for token in sent_tokens:\n",
        "   print(nltk.pos_tag([token]))"
      ],
      "execution_count": 52,
      "outputs": [
        {
          "output_type": "stream",
          "name": "stdout",
          "text": [
            "[('Siddhika', 'FW')]\n",
            "[('is', 'VBZ')]\n",
            "[('good', 'JJ')]\n",
            "[('girl', 'NN')]\n"
          ]
        }
      ]
    },
    {
      "cell_type": "code",
      "metadata": {
        "colab": {
          "base_uri": "https://localhost:8080/"
        },
        "id": "z-DteA6yUaiw",
        "outputId": "97b52037-6be2-4eb5-afd0-3ed870ddff8f"
      },
      "source": [
        "sent2 = \"computer science engineering\"\n",
        "sent2_tokens = word_tokenize(sent2)\n",
        "for token in sent2_tokens:\n",
        "    print(nltk.pos_tag([token]))"
      ],
      "execution_count": 53,
      "outputs": [
        {
          "output_type": "stream",
          "name": "stdout",
          "text": [
            "[('computer', 'NN')]\n",
            "[('science', 'NN')]\n",
            "[('engineering', 'NN')]\n"
          ]
        }
      ]
    },
    {
      "cell_type": "code",
      "metadata": {
        "id": "aS6EZmdLVXYS"
      },
      "source": [
        "from nltk import ne_chunk"
      ],
      "execution_count": 54,
      "outputs": []
    },
    {
      "cell_type": "code",
      "metadata": {
        "id": "8MzbWvczVdPs"
      },
      "source": [
        "NE_sent = \"yukta stays in Nagpur\""
      ],
      "execution_count": 55,
      "outputs": []
    },
    {
      "cell_type": "code",
      "metadata": {
        "id": "8wPjjIcWVrP5"
      },
      "source": [
        "NE_tokens = word_tokenize(NE_sent)\n",
        "NE_tag = nltk.pos_tag(NE_tokens)"
      ],
      "execution_count": 56,
      "outputs": []
    },
    {
      "cell_type": "code",
      "metadata": {
        "colab": {
          "base_uri": "https://localhost:8080/"
        },
        "id": "qDQenAwl0ZdS",
        "outputId": "f0f2e205-401b-4de7-a83a-805c1537d444"
      },
      "source": [
        "nltk.download('maxent_ne_chunker')\n",
        "nltk.download('words')"
      ],
      "execution_count": 57,
      "outputs": [
        {
          "output_type": "stream",
          "name": "stderr",
          "text": [
            "[nltk_data] Downloading package maxent_ne_chunker to\n",
            "[nltk_data]     /root/nltk_data...\n",
            "[nltk_data]   Package maxent_ne_chunker is already up-to-date!\n",
            "[nltk_data] Downloading package words to /root/nltk_data...\n",
            "[nltk_data]   Package words is already up-to-date!\n"
          ]
        },
        {
          "output_type": "execute_result",
          "data": {
            "text/plain": [
              "True"
            ]
          },
          "metadata": {},
          "execution_count": 57
        }
      ]
    },
    {
      "cell_type": "code",
      "metadata": {
        "colab": {
          "base_uri": "https://localhost:8080/"
        },
        "id": "16Sjg6GdWFNc",
        "outputId": "eefe10ea-f960-4784-d953-62a62e60dd28"
      },
      "source": [
        "NE_NER = ne_chunk(NE_tag)\n",
        "print(NE_NER)"
      ],
      "execution_count": 58,
      "outputs": [
        {
          "output_type": "stream",
          "name": "stdout",
          "text": [
            "(S yukta/NN stays/NNS in/IN (GPE Nagpur/NNP))\n"
          ]
        }
      ]
    },
    {
      "cell_type": "code",
      "metadata": {
        "colab": {
          "base_uri": "https://localhost:8080/"
        },
        "id": "f0o2F5oLYjvh",
        "outputId": "ef296a83-768e-48fa-d475-3d1f73967d1d"
      },
      "source": [
        "new = \"alfiya is clever girl\"\n",
        "new_tokens = nltk.pos_tag(word_tokenize(new))\n",
        "new_tokens"
      ],
      "execution_count": 59,
      "outputs": [
        {
          "output_type": "execute_result",
          "data": {
            "text/plain": [
              "[('alfiya', 'NN'), ('is', 'VBZ'), ('clever', 'JJ'), ('girl', 'NN')]"
            ]
          },
          "metadata": {},
          "execution_count": 59
        }
      ]
    },
    {
      "cell_type": "code",
      "metadata": {
        "id": "R79bVA74Z-Rl"
      },
      "source": [
        "grammer_np = r\"NP: {<DT>?<JJ>*<NN>}\""
      ],
      "execution_count": 60,
      "outputs": []
    },
    {
      "cell_type": "code",
      "metadata": {
        "id": "x-qI_oppaY8g"
      },
      "source": [
        "chunk_parser = nltk.RegexpParser(grammer_np)"
      ],
      "execution_count": 61,
      "outputs": []
    }
  ]
}